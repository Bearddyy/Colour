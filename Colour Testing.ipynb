{
 "cells": [
  {
   "cell_type": "code",
   "execution_count": 128,
   "metadata": {},
   "outputs": [],
   "source": [
    "%matplotlib inline\n",
    "import matplotlib.pyplot as plt\n",
    "import matplotlib.patches as patches\n",
    "import numpy as np\n",
    "import random as rand"
   ]
  },
  {
   "cell_type": "code",
   "execution_count": 148,
   "metadata": {},
   "outputs": [],
   "source": [
    "BOXES = 100"
   ]
  },
  {
   "cell_type": "code",
   "execution_count": 161,
   "metadata": {},
   "outputs": [
    {
     "name": "stdout",
     "output_type": "stream",
     "text": [
      "[1.0, 0.5555555555555556, 0.5]\n"
     ]
    }
   ],
   "source": [
    "RGB = [rand.randrange(0,100), rand.randrange(0,100), rand.randrange(0,100)]\n",
    "RGB = [(x/max(RGB)) for x in RGB]\n",
    "print(RGB)"
   ]
  },
  {
   "cell_type": "code",
   "execution_count": 162,
   "metadata": {},
   "outputs": [
    {
     "data": {
      "text/plain": [
       "<matplotlib.patches.Rectangle at 0xe1c4bb35c0>"
      ]
     },
     "execution_count": 162,
     "metadata": {},
     "output_type": "execute_result"
    },
    {
     "data": {
      "image/png": "[encoded data removed]",
      "text/plain": [
       "<Figure size 432x288 with 4 Axes>"
      ]
     },
     "metadata": {
      "needs_background": "light"
     },
     "output_type": "display_data"
    }
   ],
   "source": [
    "fig = plt.figure(1)\n",
    "\n",
    "grid = plt.GridSpec(4,2, wspace=0.4, hspace=0.4)\n",
    "\n",
    "#Create Box Scales\n",
    "R2G = [patches.Rectangle((i/BOXES,0),1,1 , color=[1-(i/BOXES), (i/BOXES),0]) for i in range(BOXES)]\n",
    "R2B = [patches.Rectangle((i/BOXES,0),1,1 , color=[1-(i/BOXES), 0, (i/BOXES)]) for i in range(BOXES)]\n",
    "G2B = [patches.Rectangle((i/BOXES,0),1,1 , color=[0, 1-(i/BOXES), (i/BOXES)]) for i in range(BOXES)]\n",
    "\n",
    "ax = fig.add_subplot(grid[0, :])\n",
    "\n",
    "sqr = patches.Rectangle((0,0),100,100 , color=RGB)\n",
    "ax.add_patch(sqr)\n",
    "\n",
    "#R - G\n",
    "ax = fig.add_subplot(grid[1, :])\n",
    "\n",
    "_ = [ax.add_patch(box) for box in R2G]\n",
    "position = RGB[1]/(RGB[0] + RGB[1])\n",
    "\n",
    "bounding = patches.Rectangle((position-0.005,0), 0.01, 1, color=[0,0,0])\n",
    "ax.add_patch(bounding)\n",
    "\n",
    "#G - B\n",
    "ax = fig.add_subplot(grid[2, :])\n",
    "\n",
    "_ = [ax.add_patch(box) for box in G2B]\n",
    "\n",
    "position = RGB[2]/(RGB[1] + RGB[2])\n",
    "bounding = patches.Rectangle((position-0.005,0), 0.01, 1, color=[0,0,0])\n",
    "ax.add_patch(bounding)\n",
    "\n",
    "#R - B\n",
    "ax = fig.add_subplot(grid[3, :])\n",
    "\n",
    "_ = [ax.add_patch(box) for box in R2B]\n",
    "\n",
    "position = RGB[2]/(RGB[0] + RGB[2])\n",
    "bounding = patches.Rectangle((RGB[2]-0.005,0), 0.01, 1, color=[0,0,0])\n",
    "ax.add_patch(bounding)"
   ]
  },
  {
   "cell_type": "code",
   "execution_count": 138,
   "metadata": {},
   "outputs": [
    {
     "data": {
      "text/plain": [
       "0.375"
      ]
     },
     "execution_count": 138,
     "metadata": {},
     "output_type": "execute_result"
    }
   ],
   "source": [
    "position = RGB[0]/RGB[1]\n",
    "position"
   ]
  },
  {
   "cell_type": "code",
   "execution_count": 160,
   "metadata": {},
   "outputs": [
    {
     "data": {
      "text/plain": [
       "0.9191919191919192"
      ]
     },
     "execution_count": 160,
     "metadata": {},
     "output_type": "execute_result"
    }
   ],
   "source": [
    "RGB[2]/(RGB[0] + RGB[2])"
   ]
  },
  {
   "cell_type": "code",
   "execution_count": null,
   "metadata": {},
   "outputs": [],
   "source": []
  }
 ],
 "metadata": {
  "kernelspec": {
   "display_name": "Python 3",
   "language": "python",
   "name": "python3"
  },
  "language_info": {
   "codemirror_mode": {
    "name": "ipython",
    "version": 3
   },
   "file_extension": ".py",
   "mimetype": "text/x-python",
   "name": "python",
   "nbconvert_exporter": "python",
   "pygments_lexer": "ipython3",
   "version": "3.7.3"
  }
 },
 "nbformat": 4,
 "nbformat_minor": 2
}
